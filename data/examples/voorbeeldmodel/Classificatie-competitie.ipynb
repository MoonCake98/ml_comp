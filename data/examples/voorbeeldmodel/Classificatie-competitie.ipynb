{
 "cells": [
  {
   "cell_type": "markdown",
   "id": "4bf48671",
   "metadata": {},
   "source": [
    "# Logboek classificatie-competitie"
   ]
  },
  {
   "cell_type": "markdown",
   "id": "6d9143c8",
   "metadata": {},
   "source": [
    "## EDA"
   ]
  },
  {
   "cell_type": "markdown",
   "id": "c86c8f54",
   "metadata": {},
   "source": [
    "EDA stelt in dit demonstratie-voorbeeld niet zo veel voor..."
   ]
  },
  {
   "cell_type": "code",
   "execution_count": 13,
   "id": "aaa7ecc7",
   "metadata": {},
   "outputs": [
    {
     "data": {
      "text/html": [
       "<div>\n",
       "<style scoped>\n",
       "    .dataframe tbody tr th:only-of-type {\n",
       "        vertical-align: middle;\n",
       "    }\n",
       "\n",
       "    .dataframe tbody tr th {\n",
       "        vertical-align: top;\n",
       "    }\n",
       "\n",
       "    .dataframe thead th {\n",
       "        text-align: right;\n",
       "    }\n",
       "</style>\n",
       "<table border=\"1\" class=\"dataframe\">\n",
       "  <thead>\n",
       "    <tr style=\"text-align: right;\">\n",
       "      <th></th>\n",
       "      <th>Unnamed: 0</th>\n",
       "      <th>patiënt-id</th>\n",
       "      <th>sex</th>\n",
       "      <th>leeftijd</th>\n",
       "      <th>lengte</th>\n",
       "      <th>gewicht</th>\n",
       "      <th>bovendruk</th>\n",
       "      <th>onderdruk</th>\n",
       "      <th>tv-per-dag</th>\n",
       "      <th>beweging-per-week</th>\n",
       "      <th>slaapscore</th>\n",
       "      <th>maandinkomen</th>\n",
       "      <th>hypertensie</th>\n",
       "      <th>bmi</th>\n",
       "      <th>opleidingsniveau</th>\n",
       "      <th>astigmatisme</th>\n",
       "      <th>MHS</th>\n",
       "    </tr>\n",
       "  </thead>\n",
       "  <tbody>\n",
       "    <tr>\n",
       "      <th>0</th>\n",
       "      <td>978</td>\n",
       "      <td>BFV2-0979</td>\n",
       "      <td>M</td>\n",
       "      <td>30.0</td>\n",
       "      <td>184</td>\n",
       "      <td>64</td>\n",
       "      <td>114.0</td>\n",
       "      <td>75</td>\n",
       "      <td>3</td>\n",
       "      <td>8.0</td>\n",
       "      <td>82.559178</td>\n",
       "      <td>4024.0</td>\n",
       "      <td>False</td>\n",
       "      <td>18.903592</td>\n",
       "      <td>HAVO/VWO/MBO2</td>\n",
       "      <td>True</td>\n",
       "      <td>False</td>\n",
       "    </tr>\n",
       "    <tr>\n",
       "      <th>1</th>\n",
       "      <td>806</td>\n",
       "      <td>BFV2-0807</td>\n",
       "      <td>M</td>\n",
       "      <td>48.0</td>\n",
       "      <td>169</td>\n",
       "      <td>82</td>\n",
       "      <td>127.0</td>\n",
       "      <td>82</td>\n",
       "      <td>5</td>\n",
       "      <td>10.0</td>\n",
       "      <td>58.244951</td>\n",
       "      <td>3546.0</td>\n",
       "      <td>False</td>\n",
       "      <td>28.710479</td>\n",
       "      <td>HAVO/VWO/MBO2</td>\n",
       "      <td>True</td>\n",
       "      <td>True</td>\n",
       "    </tr>\n",
       "    <tr>\n",
       "      <th>2</th>\n",
       "      <td>1337</td>\n",
       "      <td>BFV2-1338</td>\n",
       "      <td>M</td>\n",
       "      <td>28.0</td>\n",
       "      <td>175</td>\n",
       "      <td>58</td>\n",
       "      <td>110.0</td>\n",
       "      <td>83</td>\n",
       "      <td>2</td>\n",
       "      <td>9.0</td>\n",
       "      <td>20.000000</td>\n",
       "      <td>3744.0</td>\n",
       "      <td>False</td>\n",
       "      <td>18.938776</td>\n",
       "      <td>HAVO/VWO/MBO2</td>\n",
       "      <td>True</td>\n",
       "      <td>False</td>\n",
       "    </tr>\n",
       "    <tr>\n",
       "      <th>3</th>\n",
       "      <td>606</td>\n",
       "      <td>BFV2-0607</td>\n",
       "      <td>M</td>\n",
       "      <td>43.0</td>\n",
       "      <td>171</td>\n",
       "      <td>83</td>\n",
       "      <td>140.0</td>\n",
       "      <td>77</td>\n",
       "      <td>5</td>\n",
       "      <td>9.0</td>\n",
       "      <td>72.707249</td>\n",
       "      <td>3579.0</td>\n",
       "      <td>True</td>\n",
       "      <td>28.384802</td>\n",
       "      <td>Basisonderwijs/MBO1</td>\n",
       "      <td>True</td>\n",
       "      <td>True</td>\n",
       "    </tr>\n",
       "    <tr>\n",
       "      <th>4</th>\n",
       "      <td>701</td>\n",
       "      <td>BFV2-0702</td>\n",
       "      <td>V</td>\n",
       "      <td>48.0</td>\n",
       "      <td>175</td>\n",
       "      <td>79</td>\n",
       "      <td>125.0</td>\n",
       "      <td>77</td>\n",
       "      <td>4</td>\n",
       "      <td>6.0</td>\n",
       "      <td>53.912941</td>\n",
       "      <td>3197.0</td>\n",
       "      <td>False</td>\n",
       "      <td>25.795918</td>\n",
       "      <td>Basisonderwijs/MBO1</td>\n",
       "      <td>True</td>\n",
       "      <td>False</td>\n",
       "    </tr>\n",
       "  </tbody>\n",
       "</table>\n",
       "</div>"
      ],
      "text/plain": [
       "   Unnamed: 0 patiënt-id sex  leeftijd  lengte  gewicht  bovendruk  onderdruk  \\\n",
       "0         978  BFV2-0979   M      30.0     184       64      114.0         75   \n",
       "1         806  BFV2-0807   M      48.0     169       82      127.0         82   \n",
       "2        1337  BFV2-1338   M      28.0     175       58      110.0         83   \n",
       "3         606  BFV2-0607   M      43.0     171       83      140.0         77   \n",
       "4         701  BFV2-0702   V      48.0     175       79      125.0         77   \n",
       "\n",
       "   tv-per-dag  beweging-per-week  slaapscore  maandinkomen  hypertensie  \\\n",
       "0           3                8.0   82.559178        4024.0        False   \n",
       "1           5               10.0   58.244951        3546.0        False   \n",
       "2           2                9.0   20.000000        3744.0        False   \n",
       "3           5                9.0   72.707249        3579.0         True   \n",
       "4           4                6.0   53.912941        3197.0        False   \n",
       "\n",
       "         bmi     opleidingsniveau  astigmatisme    MHS  \n",
       "0  18.903592        HAVO/VWO/MBO2          True  False  \n",
       "1  28.710479        HAVO/VWO/MBO2          True   True  \n",
       "2  18.938776        HAVO/VWO/MBO2          True  False  \n",
       "3  28.384802  Basisonderwijs/MBO1          True   True  \n",
       "4  25.795918  Basisonderwijs/MBO1          True  False  "
      ]
     },
     "execution_count": 13,
     "metadata": {},
     "output_type": "execute_result"
    }
   ],
   "source": [
    "import pandas as pd\n",
    "import numpy as np\n",
    "\n",
    "train = pd.read_csv('./competition-train.csv', na_values=[\"?\"])\n",
    "train['MHS'] = train['MHS'].astype('category')\n",
    "# Hier kan nog meer pre-processing komen...\n",
    "\n",
    "train.head()"
   ]
  },
  {
   "cell_type": "markdown",
   "id": "b14196b5",
   "metadata": {},
   "source": [
    "De trainingsdata is correct ingelezen."
   ]
  },
  {
   "cell_type": "markdown",
   "id": "9ca45c0a",
   "metadata": {},
   "source": [
    "## ML"
   ]
  },
  {
   "cell_type": "markdown",
   "id": "2068ec32",
   "metadata": {},
   "source": [
    "ML stelt in dit demonstratie-voorbeeld ook niet zo veel voor..."
   ]
  },
  {
   "cell_type": "code",
   "execution_count": 14,
   "id": "4770cbd0",
   "metadata": {},
   "outputs": [
    {
     "data": {
      "text/plain": [
       "(array([False]), array([960]))"
      ]
     },
     "execution_count": 14,
     "metadata": {},
     "output_type": "execute_result"
    }
   ],
   "source": [
    "from sklearn.dummy import DummyClassifier\n",
    "\n",
    "X = train.iloc[:, :-1].to_numpy()\n",
    "y = train.iloc[:, -1].to_numpy()\n",
    "\n",
    "my_model = DummyClassifier()\n",
    "my_model.fit(X, y)\n",
    "\n",
    "yhat = my_model.predict(X)\n",
    "np.unique(yhat, return_counts=True)"
   ]
  },
  {
   "cell_type": "markdown",
   "id": "bb46414f",
   "metadata": {},
   "source": [
    "Het model is ontwikkeld en toepasbaar."
   ]
  },
  {
   "cell_type": "markdown",
   "id": "c18c6bc1",
   "metadata": {},
   "source": [
    "## Toepassing"
   ]
  },
  {
   "cell_type": "markdown",
   "id": "10dd482a",
   "metadata": {},
   "source": [
    "Het model moet toepasbaar zijn op een nieuwe dataset met een willekeurig aantal instances die niet zijn gelabeld (d.w.z. er is wel een kolom met labels, maar de inhoud is irrelevant en bevat bv. missing values)."
   ]
  },
  {
   "cell_type": "code",
   "execution_count": 22,
   "id": "0d9e8c51",
   "metadata": {},
   "outputs": [
    {
     "data": {
      "text/html": [
       "<div>\n",
       "<style scoped>\n",
       "    .dataframe tbody tr th:only-of-type {\n",
       "        vertical-align: middle;\n",
       "    }\n",
       "\n",
       "    .dataframe tbody tr th {\n",
       "        vertical-align: top;\n",
       "    }\n",
       "\n",
       "    .dataframe thead th {\n",
       "        text-align: right;\n",
       "    }\n",
       "</style>\n",
       "<table border=\"1\" class=\"dataframe\">\n",
       "  <thead>\n",
       "    <tr style=\"text-align: right;\">\n",
       "      <th></th>\n",
       "      <th>Unnamed: 0</th>\n",
       "      <th>patiënt-id</th>\n",
       "      <th>sex</th>\n",
       "      <th>leeftijd</th>\n",
       "      <th>lengte</th>\n",
       "      <th>gewicht</th>\n",
       "      <th>bovendruk</th>\n",
       "      <th>onderdruk</th>\n",
       "      <th>tv-per-dag</th>\n",
       "      <th>beweging-per-week</th>\n",
       "      <th>slaapscore</th>\n",
       "      <th>maandinkomen</th>\n",
       "      <th>hypertensie</th>\n",
       "      <th>bmi</th>\n",
       "      <th>opleidingsniveau</th>\n",
       "      <th>astigmatisme</th>\n",
       "      <th>MHS</th>\n",
       "    </tr>\n",
       "  </thead>\n",
       "  <tbody>\n",
       "    <tr>\n",
       "      <th>0</th>\n",
       "      <td>450</td>\n",
       "      <td>BFV2-0451</td>\n",
       "      <td>M</td>\n",
       "      <td>46.0</td>\n",
       "      <td>160</td>\n",
       "      <td>78</td>\n",
       "      <td>128.0</td>\n",
       "      <td>84</td>\n",
       "      <td>5</td>\n",
       "      <td>3.0</td>\n",
       "      <td>73.544630</td>\n",
       "      <td>4563.0</td>\n",
       "      <td>False</td>\n",
       "      <td>30.468750</td>\n",
       "      <td>Basisonderwijs/MBO1</td>\n",
       "      <td>False</td>\n",
       "      <td>NaN</td>\n",
       "    </tr>\n",
       "    <tr>\n",
       "      <th>1</th>\n",
       "      <td>1133</td>\n",
       "      <td>BFV2-1134</td>\n",
       "      <td>M</td>\n",
       "      <td>45.0</td>\n",
       "      <td>190</td>\n",
       "      <td>60</td>\n",
       "      <td>121.0</td>\n",
       "      <td>80</td>\n",
       "      <td>2</td>\n",
       "      <td>9.0</td>\n",
       "      <td>61.517017</td>\n",
       "      <td>4481.0</td>\n",
       "      <td>False</td>\n",
       "      <td>16.620499</td>\n",
       "      <td>HAVO/VWO/MBO2</td>\n",
       "      <td>False</td>\n",
       "      <td>NaN</td>\n",
       "    </tr>\n",
       "    <tr>\n",
       "      <th>2</th>\n",
       "      <td>854</td>\n",
       "      <td>BFV2-0855</td>\n",
       "      <td>M</td>\n",
       "      <td>34.0</td>\n",
       "      <td>183</td>\n",
       "      <td>71</td>\n",
       "      <td>110.0</td>\n",
       "      <td>73</td>\n",
       "      <td>4</td>\n",
       "      <td>6.0</td>\n",
       "      <td>66.036863</td>\n",
       "      <td>3900.0</td>\n",
       "      <td>False</td>\n",
       "      <td>21.200991</td>\n",
       "      <td>HAVO/VWO/MBO2</td>\n",
       "      <td>True</td>\n",
       "      <td>NaN</td>\n",
       "    </tr>\n",
       "    <tr>\n",
       "      <th>3</th>\n",
       "      <td>776</td>\n",
       "      <td>BFV2-0777</td>\n",
       "      <td>V</td>\n",
       "      <td>32.0</td>\n",
       "      <td>174</td>\n",
       "      <td>69</td>\n",
       "      <td>146.0</td>\n",
       "      <td>78</td>\n",
       "      <td>4</td>\n",
       "      <td>NaN</td>\n",
       "      <td>71.963581</td>\n",
       "      <td>3673.0</td>\n",
       "      <td>True</td>\n",
       "      <td>22.790329</td>\n",
       "      <td>HBO/WO</td>\n",
       "      <td>True</td>\n",
       "      <td>NaN</td>\n",
       "    </tr>\n",
       "    <tr>\n",
       "      <th>4</th>\n",
       "      <td>991</td>\n",
       "      <td>BFV2-0992</td>\n",
       "      <td>M</td>\n",
       "      <td>37.0</td>\n",
       "      <td>165</td>\n",
       "      <td>85</td>\n",
       "      <td>130.0</td>\n",
       "      <td>81</td>\n",
       "      <td>5</td>\n",
       "      <td>9.0</td>\n",
       "      <td>75.795861</td>\n",
       "      <td>4422.0</td>\n",
       "      <td>False</td>\n",
       "      <td>31.221304</td>\n",
       "      <td>Basisonderwijs/MBO1</td>\n",
       "      <td>True</td>\n",
       "      <td>NaN</td>\n",
       "    </tr>\n",
       "  </tbody>\n",
       "</table>\n",
       "</div>"
      ],
      "text/plain": [
       "   Unnamed: 0 patiënt-id sex  leeftijd  lengte  gewicht  bovendruk  onderdruk  \\\n",
       "0         450  BFV2-0451   M      46.0     160       78      128.0         84   \n",
       "1        1133  BFV2-1134   M      45.0     190       60      121.0         80   \n",
       "2         854  BFV2-0855   M      34.0     183       71      110.0         73   \n",
       "3         776  BFV2-0777   V      32.0     174       69      146.0         78   \n",
       "4         991  BFV2-0992   M      37.0     165       85      130.0         81   \n",
       "\n",
       "   tv-per-dag  beweging-per-week  slaapscore  maandinkomen  hypertensie  \\\n",
       "0           5                3.0   73.544630        4563.0        False   \n",
       "1           2                9.0   61.517017        4481.0        False   \n",
       "2           4                6.0   66.036863        3900.0        False   \n",
       "3           4                NaN   71.963581        3673.0         True   \n",
       "4           5                9.0   75.795861        4422.0        False   \n",
       "\n",
       "         bmi     opleidingsniveau  astigmatisme MHS  \n",
       "0  30.468750  Basisonderwijs/MBO1         False NaN  \n",
       "1  16.620499        HAVO/VWO/MBO2         False NaN  \n",
       "2  21.200991        HAVO/VWO/MBO2          True NaN  \n",
       "3  22.790329               HBO/WO          True NaN  \n",
       "4  31.221304  Basisonderwijs/MBO1          True NaN  "
      ]
     },
     "execution_count": 22,
     "metadata": {},
     "output_type": "execute_result"
    }
   ],
   "source": [
    "test = pd.read_csv('./competition-train-noclass.csv', na_values=[\"?\"])\n",
    "test['MHS'] = test['MHS'].astype('category')\n",
    "# Hier kan nog meer pre-processing komen...\n",
    "\n",
    "test.head()"
   ]
  },
  {
   "cell_type": "code",
   "execution_count": 18,
   "id": "a45268cd",
   "metadata": {},
   "outputs": [
    {
     "data": {
      "text/plain": [
       "(array([False]), array([240]))"
      ]
     },
     "execution_count": 18,
     "metadata": {},
     "output_type": "execute_result"
    }
   ],
   "source": [
    "X = test.iloc[:, :-1].to_numpy()\n",
    "y = test.iloc[:, -1].to_numpy()\n",
    "\n",
    "yhat = my_model.predict(X)\n",
    "np.unique(yhat, return_counts=True)"
   ]
  },
  {
   "cell_type": "markdown",
   "id": "01c84eca",
   "metadata": {},
   "source": [
    "## Package"
   ]
  },
  {
   "cell_type": "markdown",
   "id": "540d9261",
   "metadata": {},
   "source": [
    "Maak een package folder met de naam van je groep en vul deze met een `__init__.py`, en (bijvoorbeeld) een `model.py` en `model.pkl`. Zie de overige bestanden in deze directory, en de verdere instructies op Blackboard. Let op dat het enige dat vanuit deze module naar buiten gaat die `factory` in de `__init__.py` is: de rest moet allemaal binnen de module zelf gebeuren."
   ]
  },
  {
   "cell_type": "markdown",
   "id": "665342ca",
   "metadata": {},
   "source": [
    "***"
   ]
  }
 ],
 "metadata": {
  "kernelspec": {
   "display_name": "Python 3 (ipykernel)",
   "language": "python",
   "name": "python3"
  },
  "language_info": {
   "codemirror_mode": {
    "name": "ipython",
    "version": 3
   },
   "file_extension": ".py",
   "mimetype": "text/x-python",
   "name": "python",
   "nbconvert_exporter": "python",
   "pygments_lexer": "ipython3",
   "version": "3.12.2"
  },
  "varInspector": {
   "cols": {
    "lenName": 16,
    "lenType": 16,
    "lenVar": 40
   },
   "kernels_config": {
    "python": {
     "delete_cmd_postfix": "",
     "delete_cmd_prefix": "del ",
     "library": "var_list.py",
     "varRefreshCmd": "print(var_dic_list())"
    },
    "r": {
     "delete_cmd_postfix": ") ",
     "delete_cmd_prefix": "rm(",
     "library": "var_list.r",
     "varRefreshCmd": "cat(var_dic_list()) "
    }
   },
   "types_to_exclude": [
    "module",
    "function",
    "builtin_function_or_method",
    "instance",
    "_Feature"
   ],
   "window_display": false
  }
 },
 "nbformat": 4,
 "nbformat_minor": 5
}
